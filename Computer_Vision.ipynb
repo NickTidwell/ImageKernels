{
 "cells": [
  {
   "cell_type": "code",
   "execution_count": null,
   "metadata": {},
   "outputs": [],
   "source": [
    "from PIL import Image\n",
    "import numpy as np\n",
    "\n",
    "from os import listdir\n",
    "from os.path import isfile, join\n",
    "\n"
   ]
  },
  {
   "cell_type": "code",
   "execution_count": null,
   "metadata": {},
   "outputs": [],
   "source": [
    "IMAGE_DIR = \"Images\"\n",
    "image_files = [f\"{IMAGE_DIR}/{f}\" for f in listdir(IMAGE_DIR) if isfile(join(IMAGE_DIR, f))]\n",
    "image_files\n"
   ]
  },
  {
   "cell_type": "code",
   "execution_count": null,
   "metadata": {},
   "outputs": [],
   "source": [
    "image_path = image_files[1]\n",
    "Im = Image.open(image_path) #Image Loaded\n",
    "I = np.asarray(Im) #Matrix representation of array\n",
    "Im"
   ]
  },
  {
   "cell_type": "code",
   "execution_count": null,
   "metadata": {},
   "outputs": [],
   "source": [
    "# f ( x, μ, σ) = 1 / (σ * sqrt(2 * pi)) * e^(- (x - μ)^2 / (2 * σ^2))\n",
    "\n",
    "def normal(x, mu, sigma):\n",
    "    exponent = -(x - mu)**2 / (2 * sigma**2)\n",
    "    return  1 / (np.sqrt(2 * np.pi) * sigma) * np.exp(exponent)\n",
    "\n",
    "def centered_array(size):\n",
    "    if size % 2 == 0:\n",
    "        raise ValueError(\"Size should be an odd integer.\")\n",
    "    half_size = size // 2\n",
    "    centered_array = np.arange(-half_size, half_size + 1)\n",
    "    return centered_array\n",
    "\n",
    "def gaussian_mask(size, sigma):\n",
    "    x = centered_array(size)\n",
    "    mask = normal(x,0,sigma)\n",
    "    mask /= np.sum(mask) #Normalize Values\n",
    "    return mask\n",
    "    \n",
    "def convolution(image, kernel, dir=\"x\", mode=\"zero\"):\n",
    "    if len(kernel.shape) == 1:\n",
    "        kernel = np.array([kernel]) #Insert Empty Dim For X convulation\n",
    "    if dir == \"y\":\n",
    "        kernel = np.transpose(kernel)\n",
    "        \n",
    "    result = np.zeros_like(image)\n",
    "    kernel_height, kernel_width = kernel.shape\n",
    "    image_height, image_width = image.shape\n",
    "\n",
    "\n",
    "    # Calculate padding size based on the kernel size\n",
    "    padding_height = kernel_height // 2\n",
    "    padding_width = kernel_width // 2\n",
    "    padded_image = None\n",
    "\n",
    "    if mode == \"zero\":\n",
    "        padded_image = np.pad(image, ((padding_height, padding_height), (padding_width, padding_width)), mode='constant')\n",
    "    elif mode == \"reflect\":\n",
    "        padded_image = np.pad(image, ((padding_height, padding_height), (padding_width, padding_width)), mode='reflect')\n",
    "\n",
    "\n",
    "    for y in range(image_height):\n",
    "        for x in range(image_width):\n",
    "            image_patch = padded_image[y:y+kernel_height, x:x+kernel_width]\n",
    "            result[y, x] = np.sum(image_patch * kernel)\n",
    "    return result\n",
    "\n",
    "    \n",
    "def elementwise_magnitude(m1, m2):\n",
    "    result = np.sqrt((m1 ** 2) + (m2 ** 2))\n",
    "    return result\n",
    "def grad_direction(m1,m2):\n",
    "    return np.arctan2(m1, m2)\n",
    "    \n",
    "# def non_maximum_suppression(magnitude, gradient_direction):\n",
    "#     # Define the directions for 8 neighboring pixels\n",
    "#     DIRECTIONS = [0, 45, 90, 135]\n",
    "    \n",
    "#     # Initialize the result with zeros\n",
    "#     suppressed = np.zeros_like(magnitude, dtype=np.uint8)\n",
    "    \n",
    "#     # Iterate through each pixel in the magnitude image\n",
    "#     rows, cols = magnitude.shape\n",
    "#     for i in range(1, rows - 1):\n",
    "#         for j in range(1, cols - 1):\n",
    "#             angle = gradient_direction[i, j]\n",
    "            \n",
    "#             # Check the neighboring pixels in the gradient direction\n",
    "#             if angle == 0 and magnitude[i, j] >= magnitude[i, j + 1] and magnitude[i, j] >= magnitude[i, j - 1]:\n",
    "#                 suppressed[i, j] = magnitude[i, j]\n",
    "#             elif angle == 45 and magnitude[i, j] >= magnitude[i - 1, j + 1] and magnitude[i, j] >= magnitude[i + 1, j - 1]:\n",
    "#                 suppressed[i, j] = magnitude[i, j]\n",
    "#             elif angle == 90 and magnitude[i, j] >= magnitude[i - 1, j] and magnitude[i, j] >= magnitude[i + 1, j]:\n",
    "#                 suppressed[i, j] = magnitude[i, j]\n",
    "#             elif angle == 135 and magnitude[i, j] >= magnitude[i - 1, j - 1] and magnitude[i, j] >= magnitude[i + 1, j + 1]:\n",
    "#                 suppressed[i, j] = magnitude[i, j]\n",
    "    \n",
    "#     return suppressed\n"
   ]
  },
  {
   "cell_type": "code",
   "execution_count": null,
   "metadata": {},
   "outputs": [],
   "source": [
    "from scipy.signal import convolve\n",
    "\n",
    "mag = 1\n",
    "kernel_size = 3\n",
    "sigma = 5\n",
    "\n",
    "G = gaussian_mask(kernel_size, sigma) # Gaussian X Filter\n",
    "dx_mask = np.array([-mag, 0, mag]) #Central derivative Mask; Todo:: Determine what mask to use here\n",
    "\n",
    "Gx = convolve(G, dx_mask) #todo:: can we use this convolve function\n",
    "Gy =  np.transpose(np.array([Gx]))\n"
   ]
  },
  {
   "cell_type": "code",
   "execution_count": null,
   "metadata": {},
   "outputs": [],
   "source": [
    "import cv2\n",
    "\n",
    "result = cv2.filter2D(I, -1, Gx)\n",
    "Test1 = Image.fromarray(result, mode='L')\n",
    "Test1\n",
    "\n",
    "result = cv2.filter2D(I, -1, Gy)\n",
    "Test2 = Image.fromarray(result, mode='L')\n",
    "Test2\n",
    "Display(Test1, Test2)"
   ]
  },
  {
   "cell_type": "code",
   "execution_count": null,
   "metadata": {},
   "outputs": [],
   "source": [
    "Ix = convolution(I, G)\n",
    "Iy = convolution(I, G, dir='y')\n",
    "\n",
    "I_dx = convolution(I, Gx)\n",
    "I_dx = np.uint8(np.absolute(I_dx))\n",
    "I_dy = convolution(I, Gy)\n",
    "I_dy = np.uint8(np.absolute(I_dy))\n",
    "\n",
    "I_mag = elementwise_magnitude(I_dx, I_dy)\n",
    "I_mag = ((I_mag - I_mag.min()) / (I_mag.max() - I_mag.min()) * 255).astype(np.uint8)\n",
    "\n",
    "I_deg = np.degrees(grad_direction(I_dx, I_dy))\n",
    "I_non = non_maximum_suppression(I_mag, I_deg)\n",
    "I_non = ((I_non - I_non.min()) / (I_non.max() - I_non.min()) * 255).astype(np.uint8)\n",
    "\n",
    "Image_Gaus_x = Image.fromarray(Ix, mode='L')\n",
    "Image_Gaus_y = Image.fromarray(Iy, mode='L') #Tranpose to apply in Y dir\n",
    "\n",
    "Image_Gaus_dx = Image.fromarray(I_dx, mode='L') \n",
    "Image_Gaus_dy = Image.fromarray(I_dy, mode='L') \n",
    "Image_magnitude = Image.fromarray(I_mag, mode='L') \n",
    "\n",
    "Image_supressed = Image.fromarray(I_non, mode='L') \n"
   ]
  },
  {
   "cell_type": "code",
   "execution_count": null,
   "metadata": {},
   "outputs": [],
   "source": [
    "display(Image_Gaus_x,Image_Gaus_y,Image_Gaus_dx,Image_Gaus_dy,Image_magnitude,Image_supressed)\n"
   ]
  },
  {
   "cell_type": "code",
   "execution_count": null,
   "metadata": {},
   "outputs": [],
   "source": [
    "# gaussian(np.array([-3,-2,-1,0,1,2,3]),1)\n",
    "# def gaussian_dx(size, sigma):\n",
    "#     x = np.linspace(-size // 2, size // 2, size)\n",
    "#     exponent = -(x**2) / (2 * sigma**2)\n",
    "#     mask = (-x / (sigma**3 * np.sqrt(2 * np.pi))) * np.exp(exponent)\n",
    "#     return mask\n",
    "# def guassion_dy(size, sigma):\n",
    "#     y = np.linspace(-size // 2, size // 2, size)\n",
    "#     exponent = -(y**2) / (2 * sigma**2)\n",
    "#     mask = (-y / (sigma**3 * np.sqrt(2 * np.pi))) * np.exp(exponent)\n",
    "    \n",
    "#     return mask\n",
    "# def gaussian(x, sigma):\n",
    "#     return -x**2 / ( np.exp(2* (sigma**2)))"
   ]
  }
 ],
 "metadata": {
  "kernelspec": {
   "display_name": "Python 3",
   "language": "python",
   "name": "python3"
  },
  "language_info": {
   "codemirror_mode": {
    "name": "ipython",
    "version": 3
   },
   "file_extension": ".py",
   "mimetype": "text/x-python",
   "name": "python",
   "nbconvert_exporter": "python",
   "pygments_lexer": "ipython3",
   "version": "3.10.11"
  },
  "orig_nbformat": 4
 },
 "nbformat": 4,
 "nbformat_minor": 2
}
